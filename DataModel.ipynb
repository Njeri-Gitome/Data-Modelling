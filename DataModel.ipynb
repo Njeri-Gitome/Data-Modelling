{
 "cells": [
  {
   "cell_type": "code",
   "execution_count": 223,
   "metadata": {},
   "outputs": [],
   "source": [
    "import pandas as pd\n",
    "import psycopg2"
   ]
  },
  {
   "cell_type": "code",
   "execution_count": 224,
   "metadata": {},
   "outputs": [],
   "source": [
    "# Function to create database\n",
    "def create_database():\n",
    "    \n",
    "    #Establish connection with default database\n",
    "    conn = psycopg2.connect(\n",
    "        host = '127.0.0.1',\n",
    "        dbname = 'postgres',\n",
    "        user = 'postgres',\n",
    "        password = 'root'\n",
    "    )\n",
    "    \n",
    "    conn.set_session( autocommit= True) # automate commit\n",
    "    cur = conn.cursor()   # get cursor\n",
    "    \n",
    "    # Create database\n",
    "    # cur.execute(\"DROP DATABASE education\") -- if exists\n",
    "    cur.execute(\"CREATE DATABASE education\")\n",
    "    \n",
    "    # Close connection to default database\n",
    "    cur.close()\n",
    "    \n",
    "    # connect to the created database\n",
    "    conn = psycopg2.connect(\n",
    "        host = '127.0.0.1',\n",
    "        dbname = 'education',\n",
    "        user = 'postgres',\n",
    "        password = 'root'\n",
    "        )\n",
    "    \n",
    "    cur =conn.cursor()\n",
    "    \n",
    "    return cur, conn\n",
    "    \n",
    "    "
   ]
  },
  {
   "cell_type": "code",
   "execution_count": 225,
   "metadata": {},
   "outputs": [],
   "source": [
    "# # function to delete table\n",
    "# def drop_table(cur,conn):\n",
    "#     for query in drop_table_queries:\n",
    "#         cur.execute(query)\n",
    "#         conn.commit()"
   ]
  },
  {
   "cell_type": "code",
   "execution_count": 226,
   "metadata": {},
   "outputs": [],
   "source": [
    "# # function to create table\n",
    "# def create_table(cur,conn):\n",
    "#     for query in create_table_queries:\n",
    "#         cur.execute(query)\n",
    "#         conn.commit()"
   ]
  },
  {
   "cell_type": "code",
   "execution_count": 233,
   "metadata": {},
   "outputs": [],
   "source": [
    "TeacherStatus =pd.read_csv('Data/teacher-by-status-and-county-for-secondary-csv-1.csv')\n",
    "TeacherCounty = pd.read_csv ('Data/teachers-per-county-in-kenya-csv-2.csv')"
   ]
  },
  {
   "cell_type": "code",
   "execution_count": 234,
   "metadata": {},
   "outputs": [
    {
     "data": {
      "text/html": [
       "<div>\n",
       "<style scoped>\n",
       "    .dataframe tbody tr th:only-of-type {\n",
       "        vertical-align: middle;\n",
       "    }\n",
       "\n",
       "    .dataframe tbody tr th {\n",
       "        vertical-align: top;\n",
       "    }\n",
       "\n",
       "    .dataframe thead th {\n",
       "        text-align: right;\n",
       "    }\n",
       "</style>\n",
       "<table border=\"1\" class=\"dataframe\">\n",
       "  <thead>\n",
       "    <tr style=\"text-align: right;\">\n",
       "      <th></th>\n",
       "      <th>COUNTY</th>\n",
       "      <th>School Type</th>\n",
       "      <th>Employment Body</th>\n",
       "      <th>No. of Teachers</th>\n",
       "      <th>County (centroid)</th>\n",
       "      <th>Year</th>\n",
       "    </tr>\n",
       "  </thead>\n",
       "  <tbody>\n",
       "    <tr>\n",
       "      <th>0</th>\n",
       "      <td>Baringo</td>\n",
       "      <td>Public</td>\n",
       "      <td>TSC</td>\n",
       "      <td>1172</td>\n",
       "      <td>(0.669252, 35.946465)</td>\n",
       "      <td>12/31/2014 12:00:00 AM</td>\n",
       "    </tr>\n",
       "    <tr>\n",
       "      <th>1</th>\n",
       "      <td>Bomet</td>\n",
       "      <td>Public</td>\n",
       "      <td>TSC</td>\n",
       "      <td>1379</td>\n",
       "      <td>(-0.726295, 35.298598)</td>\n",
       "      <td>12/31/2014 12:00:00 AM</td>\n",
       "    </tr>\n",
       "    <tr>\n",
       "      <th>2</th>\n",
       "      <td>Bungoma</td>\n",
       "      <td>Public</td>\n",
       "      <td>TSC</td>\n",
       "      <td>2946</td>\n",
       "      <td>(0.749285, 34.640461)</td>\n",
       "      <td>12/31/2014 12:00:00 AM</td>\n",
       "    </tr>\n",
       "    <tr>\n",
       "      <th>3</th>\n",
       "      <td>Busia</td>\n",
       "      <td>Public</td>\n",
       "      <td>TSC</td>\n",
       "      <td>1182</td>\n",
       "      <td>(0.387444, 34.193631)</td>\n",
       "      <td>12/31/2014 12:00:00 AM</td>\n",
       "    </tr>\n",
       "    <tr>\n",
       "      <th>4</th>\n",
       "      <td>Elgeyo Marakwet</td>\n",
       "      <td>Public</td>\n",
       "      <td>TSC</td>\n",
       "      <td>1087</td>\n",
       "      <td>(0.802219, 35.536563)</td>\n",
       "      <td>12/31/2014 12:00:00 AM</td>\n",
       "    </tr>\n",
       "  </tbody>\n",
       "</table>\n",
       "</div>"
      ],
      "text/plain": [
       "            COUNTY School Type Employment Body  No. of Teachers  \\\n",
       "0  Baringo             Public          TSC                 1172   \n",
       "1  Bomet               Public          TSC                 1379   \n",
       "2  Bungoma             Public          TSC                 2946   \n",
       "3  Busia               Public          TSC                 1182   \n",
       "4  Elgeyo Marakwet     Public          TSC                 1087   \n",
       "\n",
       "        County (centroid)                    Year  \n",
       "0   (0.669252, 35.946465)  12/31/2014 12:00:00 AM  \n",
       "1  (-0.726295, 35.298598)  12/31/2014 12:00:00 AM  \n",
       "2   (0.749285, 34.640461)  12/31/2014 12:00:00 AM  \n",
       "3   (0.387444, 34.193631)  12/31/2014 12:00:00 AM  \n",
       "4   (0.802219, 35.536563)  12/31/2014 12:00:00 AM  "
      ]
     },
     "execution_count": 234,
     "metadata": {},
     "output_type": "execute_result"
    }
   ],
   "source": [
    "TeacherStatus.head()"
   ]
  },
  {
   "cell_type": "code",
   "execution_count": 235,
   "metadata": {},
   "outputs": [],
   "source": [
    "# Rename columns\n",
    "TeacherStatus.rename({\n",
    "     \"COUNTY\":\"County\",\n",
    "     \"No. of Teachers\": \"No of Teachers\"    \n",
    " \n",
    "},axis = 1 , inplace = True \n",
    ")"
   ]
  },
  {
   "cell_type": "code",
   "execution_count": 236,
   "metadata": {},
   "outputs": [],
   "source": [
    "TeacherStatus['Year'] = pd.to_datetime(TeacherStatus['Year'])\n",
    "TeacherCounty['Year'] = pd.to_datetime(TeacherCounty['Year'])"
   ]
  },
  {
   "cell_type": "code",
   "execution_count": 237,
   "metadata": {},
   "outputs": [
    {
     "name": "stdout",
     "output_type": "stream",
     "text": [
      "<class 'pandas.core.frame.DataFrame'>\n",
      "RangeIndex: 192 entries, 0 to 191\n",
      "Data columns (total 6 columns):\n",
      " #   Column             Non-Null Count  Dtype         \n",
      "---  ------             --------------  -----         \n",
      " 0   County             192 non-null    object        \n",
      " 1   School Type        192 non-null    object        \n",
      " 2   Employment Body    192 non-null    object        \n",
      " 3   No of Teachers     192 non-null    int64         \n",
      " 4   County (centroid)  188 non-null    object        \n",
      " 5   Year               192 non-null    datetime64[ns]\n",
      "dtypes: datetime64[ns](1), int64(1), object(4)\n",
      "memory usage: 9.1+ KB\n"
     ]
    }
   ],
   "source": [
    "TeacherStatus.info()"
   ]
  },
  {
   "cell_type": "code",
   "execution_count": 238,
   "metadata": {},
   "outputs": [],
   "source": [
    "# rename columns\n",
    "TeacherCounty.rename({ \"Public\": \"Employment Body\"}, axis =1 , inplace = True)"
   ]
  },
  {
   "cell_type": "code",
   "execution_count": 239,
   "metadata": {},
   "outputs": [
    {
     "data": {
      "text/html": [
       "<div>\n",
       "<style scoped>\n",
       "    .dataframe tbody tr th:only-of-type {\n",
       "        vertical-align: middle;\n",
       "    }\n",
       "\n",
       "    .dataframe tbody tr th {\n",
       "        vertical-align: top;\n",
       "    }\n",
       "\n",
       "    .dataframe thead th {\n",
       "        text-align: right;\n",
       "    }\n",
       "</style>\n",
       "<table border=\"1\" class=\"dataframe\">\n",
       "  <thead>\n",
       "    <tr style=\"text-align: right;\">\n",
       "      <th></th>\n",
       "      <th>County</th>\n",
       "      <th>Employment Body</th>\n",
       "      <th>Total Number</th>\n",
       "      <th>County (Centroid)</th>\n",
       "      <th>Year</th>\n",
       "    </tr>\n",
       "  </thead>\n",
       "  <tbody>\n",
       "    <tr>\n",
       "      <th>189</th>\n",
       "      <td>Uasin Gishu</td>\n",
       "      <td>Privat</td>\n",
       "      <td>1620.0</td>\n",
       "      <td>(0.5260859, 35.3220117)</td>\n",
       "      <td>2014-12-31</td>\n",
       "    </tr>\n",
       "    <tr>\n",
       "      <th>190</th>\n",
       "      <td>Vihiga</td>\n",
       "      <td>Privat</td>\n",
       "      <td>561.0</td>\n",
       "      <td>(0.0762658, 34.722323)</td>\n",
       "      <td>2014-12-31</td>\n",
       "    </tr>\n",
       "    <tr>\n",
       "      <th>191</th>\n",
       "      <td>Wajir</td>\n",
       "      <td>Privat</td>\n",
       "      <td>237.0</td>\n",
       "      <td>(1.8081376, 40.0349856)</td>\n",
       "      <td>2014-12-31</td>\n",
       "    </tr>\n",
       "    <tr>\n",
       "      <th>192</th>\n",
       "      <td>West Pokot</td>\n",
       "      <td>Privat</td>\n",
       "      <td>201.0</td>\n",
       "      <td>(1.7401062, 35.2438468)</td>\n",
       "      <td>2014-12-31</td>\n",
       "    </tr>\n",
       "    <tr>\n",
       "      <th>193</th>\n",
       "      <td>Kenya</td>\n",
       "      <td>Privat</td>\n",
       "      <td>75406.0</td>\n",
       "      <td>NaN</td>\n",
       "      <td>2014-12-31</td>\n",
       "    </tr>\n",
       "  </tbody>\n",
       "</table>\n",
       "</div>"
      ],
      "text/plain": [
       "              County Employment Body  Total Number        County (Centroid)  \\\n",
       "189  Uasin Gishu              Privat        1620.0  (0.5260859, 35.3220117)   \n",
       "190  Vihiga                   Privat         561.0   (0.0762658, 34.722323)   \n",
       "191  Wajir                    Privat         237.0  (1.8081376, 40.0349856)   \n",
       "192  West Pokot               Privat         201.0  (1.7401062, 35.2438468)   \n",
       "193  Kenya                    Privat       75406.0                      NaN   \n",
       "\n",
       "          Year  \n",
       "189 2014-12-31  \n",
       "190 2014-12-31  \n",
       "191 2014-12-31  \n",
       "192 2014-12-31  \n",
       "193 2014-12-31  "
      ]
     },
     "execution_count": 239,
     "metadata": {},
     "output_type": "execute_result"
    }
   ],
   "source": [
    "TeacherCounty.tail()"
   ]
  },
  {
   "cell_type": "code",
   "execution_count": 240,
   "metadata": {},
   "outputs": [
    {
     "name": "stdout",
     "output_type": "stream",
     "text": [
      "<class 'pandas.core.frame.DataFrame'>\n",
      "RangeIndex: 194 entries, 0 to 193\n",
      "Data columns (total 5 columns):\n",
      " #   Column             Non-Null Count  Dtype         \n",
      "---  ------             --------------  -----         \n",
      " 0   County             194 non-null    object        \n",
      " 1   Employment Body    194 non-null    object        \n",
      " 2   Total Number       192 non-null    float64       \n",
      " 3   County (Centroid)  188 non-null    object        \n",
      " 4   Year               194 non-null    datetime64[ns]\n",
      "dtypes: datetime64[ns](1), float64(1), object(3)\n",
      "memory usage: 7.7+ KB\n"
     ]
    }
   ],
   "source": [
    "TeacherCounty.info()"
   ]
  },
  {
   "cell_type": "code",
   "execution_count": 241,
   "metadata": {},
   "outputs": [
    {
     "name": "stdout",
     "output_type": "stream",
     "text": [
      "Shape of the TeacherStatus:  (192, 6)\n",
      "Shape of the TeacherCounty:  (194, 5)\n"
     ]
    }
   ],
   "source": [
    "print(\"Shape of the TeacherStatus: \",TeacherStatus.shape)\n",
    "print(\"Shape of the TeacherCounty: \", TeacherCounty.shape)"
   ]
  },
  {
   "cell_type": "code",
   "execution_count": 253,
   "metadata": {},
   "outputs": [
    {
     "data": {
      "text/html": [
       "<div>\n",
       "<style scoped>\n",
       "    .dataframe tbody tr th:only-of-type {\n",
       "        vertical-align: middle;\n",
       "    }\n",
       "\n",
       "    .dataframe tbody tr th {\n",
       "        vertical-align: top;\n",
       "    }\n",
       "\n",
       "    .dataframe thead th {\n",
       "        text-align: right;\n",
       "    }\n",
       "</style>\n",
       "<table border=\"1\" class=\"dataframe\">\n",
       "  <thead>\n",
       "    <tr style=\"text-align: right;\">\n",
       "      <th></th>\n",
       "      <th>County</th>\n",
       "      <th>Employment Body</th>\n",
       "      <th>Total Number</th>\n",
       "      <th>County (Centroid)</th>\n",
       "      <th>Year</th>\n",
       "    </tr>\n",
       "  </thead>\n",
       "  <tbody>\n",
       "    <tr>\n",
       "      <th>189</th>\n",
       "      <td>Uasin Gishu</td>\n",
       "      <td>Privat</td>\n",
       "      <td>1620.0</td>\n",
       "      <td>(0.5260859, 35.3220117)</td>\n",
       "      <td>2014-12-31</td>\n",
       "    </tr>\n",
       "    <tr>\n",
       "      <th>190</th>\n",
       "      <td>Vihiga</td>\n",
       "      <td>Privat</td>\n",
       "      <td>561.0</td>\n",
       "      <td>(0.0762658, 34.722323)</td>\n",
       "      <td>2014-12-31</td>\n",
       "    </tr>\n",
       "    <tr>\n",
       "      <th>191</th>\n",
       "      <td>Wajir</td>\n",
       "      <td>Privat</td>\n",
       "      <td>237.0</td>\n",
       "      <td>(1.8081376, 40.0349856)</td>\n",
       "      <td>2014-12-31</td>\n",
       "    </tr>\n",
       "    <tr>\n",
       "      <th>192</th>\n",
       "      <td>West Pokot</td>\n",
       "      <td>Privat</td>\n",
       "      <td>201.0</td>\n",
       "      <td>(1.7401062, 35.2438468)</td>\n",
       "      <td>2014-12-31</td>\n",
       "    </tr>\n",
       "    <tr>\n",
       "      <th>193</th>\n",
       "      <td>Kenya</td>\n",
       "      <td>Privat</td>\n",
       "      <td>75406.0</td>\n",
       "      <td>NaN</td>\n",
       "      <td>2014-12-31</td>\n",
       "    </tr>\n",
       "  </tbody>\n",
       "</table>\n",
       "</div>"
      ],
      "text/plain": [
       "          County Employment Body  Total Number        County (Centroid)  \\\n",
       "189  Uasin Gishu          Privat        1620.0  (0.5260859, 35.3220117)   \n",
       "190       Vihiga          Privat         561.0   (0.0762658, 34.722323)   \n",
       "191        Wajir          Privat         237.0  (1.8081376, 40.0349856)   \n",
       "192   West Pokot          Privat         201.0  (1.7401062, 35.2438468)   \n",
       "193        Kenya          Privat       75406.0                      NaN   \n",
       "\n",
       "          Year  \n",
       "189 2014-12-31  \n",
       "190 2014-12-31  \n",
       "191 2014-12-31  \n",
       "192 2014-12-31  \n",
       "193 2014-12-31  "
      ]
     },
     "execution_count": 253,
     "metadata": {},
     "output_type": "execute_result"
    }
   ],
   "source": [
    "TeacherCounty.tail()"
   ]
  },
  {
   "cell_type": "code",
   "execution_count": 244,
   "metadata": {},
   "outputs": [
    {
     "data": {
      "text/html": [
       "<div>\n",
       "<style scoped>\n",
       "    .dataframe tbody tr th:only-of-type {\n",
       "        vertical-align: middle;\n",
       "    }\n",
       "\n",
       "    .dataframe tbody tr th {\n",
       "        vertical-align: top;\n",
       "    }\n",
       "\n",
       "    .dataframe thead th {\n",
       "        text-align: right;\n",
       "    }\n",
       "</style>\n",
       "<table border=\"1\" class=\"dataframe\">\n",
       "  <thead>\n",
       "    <tr style=\"text-align: right;\">\n",
       "      <th></th>\n",
       "      <th>County</th>\n",
       "      <th>School Type</th>\n",
       "      <th>Employment Body</th>\n",
       "      <th>No of Teachers</th>\n",
       "      <th>County (centroid)</th>\n",
       "      <th>Year</th>\n",
       "    </tr>\n",
       "  </thead>\n",
       "  <tbody>\n",
       "    <tr>\n",
       "      <th>0</th>\n",
       "      <td>Baringo</td>\n",
       "      <td>Public</td>\n",
       "      <td>TSC</td>\n",
       "      <td>1172</td>\n",
       "      <td>(0.669252, 35.946465)</td>\n",
       "      <td>2014-12-31</td>\n",
       "    </tr>\n",
       "    <tr>\n",
       "      <th>1</th>\n",
       "      <td>Bomet</td>\n",
       "      <td>Public</td>\n",
       "      <td>TSC</td>\n",
       "      <td>1379</td>\n",
       "      <td>(-0.726295, 35.298598)</td>\n",
       "      <td>2014-12-31</td>\n",
       "    </tr>\n",
       "    <tr>\n",
       "      <th>2</th>\n",
       "      <td>Bungoma</td>\n",
       "      <td>Public</td>\n",
       "      <td>TSC</td>\n",
       "      <td>2946</td>\n",
       "      <td>(0.749285, 34.640461)</td>\n",
       "      <td>2014-12-31</td>\n",
       "    </tr>\n",
       "    <tr>\n",
       "      <th>3</th>\n",
       "      <td>Busia</td>\n",
       "      <td>Public</td>\n",
       "      <td>TSC</td>\n",
       "      <td>1182</td>\n",
       "      <td>(0.387444, 34.193631)</td>\n",
       "      <td>2014-12-31</td>\n",
       "    </tr>\n",
       "    <tr>\n",
       "      <th>4</th>\n",
       "      <td>Elgeyo Marakwet</td>\n",
       "      <td>Public</td>\n",
       "      <td>TSC</td>\n",
       "      <td>1087</td>\n",
       "      <td>(0.802219, 35.536563)</td>\n",
       "      <td>2014-12-31</td>\n",
       "    </tr>\n",
       "  </tbody>\n",
       "</table>\n",
       "</div>"
      ],
      "text/plain": [
       "            County School Type Employment Body  No of Teachers  \\\n",
       "0  Baringo             Public          TSC                1172   \n",
       "1  Bomet               Public          TSC                1379   \n",
       "2  Bungoma             Public          TSC                2946   \n",
       "3  Busia               Public          TSC                1182   \n",
       "4  Elgeyo Marakwet     Public          TSC                1087   \n",
       "\n",
       "        County (centroid)       Year  \n",
       "0   (0.669252, 35.946465) 2014-12-31  \n",
       "1  (-0.726295, 35.298598) 2014-12-31  \n",
       "2   (0.749285, 34.640461) 2014-12-31  \n",
       "3   (0.387444, 34.193631) 2014-12-31  \n",
       "4   (0.802219, 35.536563) 2014-12-31  "
      ]
     },
     "execution_count": 244,
     "metadata": {},
     "output_type": "execute_result"
    }
   ],
   "source": [
    "TeacherStatus.head()"
   ]
  },
  {
   "cell_type": "code",
   "execution_count": 245,
   "metadata": {},
   "outputs": [
    {
     "data": {
      "text/plain": [
       "County                49\n",
       "Employment Body        5\n",
       "Total Number         189\n",
       "County (Centroid)     47\n",
       "Year                   1\n",
       "dtype: int64"
      ]
     },
     "execution_count": 245,
     "metadata": {},
     "output_type": "execute_result"
    }
   ],
   "source": [
    "TeacherCounty.nunique()"
   ]
  },
  {
   "cell_type": "code",
   "execution_count": 247,
   "metadata": {},
   "outputs": [
    {
     "data": {
      "text/plain": [
       "County                48\n",
       "School Type            2\n",
       "Employment Body        3\n",
       "No of Teachers       141\n",
       "County (centroid)     47\n",
       "Year                   1\n",
       "dtype: int64"
      ]
     },
     "execution_count": 247,
     "metadata": {},
     "output_type": "execute_result"
    }
   ],
   "source": [
    "TeacherStatus.nunique()"
   ]
  },
  {
   "cell_type": "markdown",
   "metadata": {},
   "source": [
    "### Some data cleaning ...\n"
   ]
  },
  {
   "cell_type": "code",
   "execution_count": 248,
   "metadata": {},
   "outputs": [
    {
     "data": {
      "text/plain": [
       "Index(['County', 'School Type', 'Employment Body', 'County (centroid)'], dtype='object')"
      ]
     },
     "execution_count": 248,
     "metadata": {},
     "output_type": "execute_result"
    }
   ],
   "source": [
    "TeacherStatus.select_dtypes(include =['object']).columns"
   ]
  },
  {
   "cell_type": "code",
   "execution_count": 249,
   "metadata": {},
   "outputs": [],
   "source": [
    "# Remove leading trailing spaces from the string data\n",
    "omit_column = 'County (Centroid)'\n",
    "\n",
    "for column in TeacherCounty.select_dtypes(include =['object']).columns:\n",
    "    if column!= omit_column:\n",
    "        TeacherCounty[column] = TeacherCounty[column].str.strip()"
   ]
  },
  {
   "cell_type": "code",
   "execution_count": 250,
   "metadata": {},
   "outputs": [],
   "source": [
    "# Remove leading trailing spaces from the string data\n",
    "omit_column = 'County (Centroid)'\n",
    "\n",
    "for column in TeacherStatus.select_dtypes(include =['object']).columns:\n",
    "    if column!= omit_column:\n",
    "        TeacherStatus[column] = TeacherStatus[column].str.strip()"
   ]
  },
  {
   "cell_type": "code",
   "execution_count": 261,
   "metadata": {},
   "outputs": [
    {
     "data": {
      "text/plain": [
       "array(['TSC', 'SMC', 'Private'], dtype=object)"
      ]
     },
     "execution_count": 261,
     "metadata": {},
     "output_type": "execute_result"
    }
   ],
   "source": [
    "TeacherStatus['Employment Body'].unique()"
   ]
  },
  {
   "cell_type": "code",
   "execution_count": 255,
   "metadata": {},
   "outputs": [
    {
     "data": {
      "text/plain": [
       "array(['TSC', 'Public', 'SMC', 'Total', 'Privat'], dtype=object)"
      ]
     },
     "execution_count": 255,
     "metadata": {},
     "output_type": "execute_result"
    }
   ],
   "source": [
    "TeacherCounty['Employment Body'].unique()"
   ]
  },
  {
   "cell_type": "code",
   "execution_count": 260,
   "metadata": {},
   "outputs": [
    {
     "data": {
      "text/html": [
       "<div>\n",
       "<style scoped>\n",
       "    .dataframe tbody tr th:only-of-type {\n",
       "        vertical-align: middle;\n",
       "    }\n",
       "\n",
       "    .dataframe tbody tr th {\n",
       "        vertical-align: top;\n",
       "    }\n",
       "\n",
       "    .dataframe thead th {\n",
       "        text-align: right;\n",
       "    }\n",
       "</style>\n",
       "<table border=\"1\" class=\"dataframe\">\n",
       "  <thead>\n",
       "    <tr style=\"text-align: right;\">\n",
       "      <th></th>\n",
       "      <th>County</th>\n",
       "      <th>Employment Body</th>\n",
       "      <th>Total Number</th>\n",
       "      <th>County (Centroid)</th>\n",
       "      <th>Year</th>\n",
       "    </tr>\n",
       "  </thead>\n",
       "  <tbody>\n",
       "    <tr>\n",
       "      <th>98</th>\n",
       "      <td>Baringo</td>\n",
       "      <td>Total</td>\n",
       "      <td>5750.0</td>\n",
       "      <td>(0.669252, 35.9464654)</td>\n",
       "      <td>2014-12-31</td>\n",
       "    </tr>\n",
       "    <tr>\n",
       "      <th>99</th>\n",
       "      <td>Bomet</td>\n",
       "      <td>Total</td>\n",
       "      <td>6493.0</td>\n",
       "      <td>(-0.7262946, 35.2985976)</td>\n",
       "      <td>2014-12-31</td>\n",
       "    </tr>\n",
       "    <tr>\n",
       "      <th>100</th>\n",
       "      <td>Bungoma</td>\n",
       "      <td>Total</td>\n",
       "      <td>9920.0</td>\n",
       "      <td>(0.7492852, 34.6404609)</td>\n",
       "      <td>2014-12-31</td>\n",
       "    </tr>\n",
       "    <tr>\n",
       "      <th>101</th>\n",
       "      <td>Busia</td>\n",
       "      <td>Total</td>\n",
       "      <td>5637.0</td>\n",
       "      <td>(0.3874437, 34.1936315)</td>\n",
       "      <td>2014-12-31</td>\n",
       "    </tr>\n",
       "    <tr>\n",
       "      <th>102</th>\n",
       "      <td>Elgeyo Marakwet</td>\n",
       "      <td>Total</td>\n",
       "      <td>4229.0</td>\n",
       "      <td>(0.8022188, 35.5365631)</td>\n",
       "      <td>2014-12-31</td>\n",
       "    </tr>\n",
       "    <tr>\n",
       "      <th>103</th>\n",
       "      <td>Embu</td>\n",
       "      <td>Total</td>\n",
       "      <td>4230.0</td>\n",
       "      <td>(-0.6039744, 37.6265013)</td>\n",
       "      <td>2014-12-31</td>\n",
       "    </tr>\n",
       "    <tr>\n",
       "      <th>104</th>\n",
       "      <td>Garissa</td>\n",
       "      <td>Total</td>\n",
       "      <td>1115.0</td>\n",
       "      <td>(-0.4889103, 40.1992785)</td>\n",
       "      <td>2014-12-31</td>\n",
       "    </tr>\n",
       "    <tr>\n",
       "      <th>105</th>\n",
       "      <td>Homa Bay</td>\n",
       "      <td>Total</td>\n",
       "      <td>8189.0</td>\n",
       "      <td>(-0.5428094, 34.3589969)</td>\n",
       "      <td>2014-12-31</td>\n",
       "    </tr>\n",
       "    <tr>\n",
       "      <th>106</th>\n",
       "      <td>Isiolo</td>\n",
       "      <td>Total</td>\n",
       "      <td>933.0</td>\n",
       "      <td>(1.0104431, 38.5421531)</td>\n",
       "      <td>2014-12-31</td>\n",
       "    </tr>\n",
       "    <tr>\n",
       "      <th>107</th>\n",
       "      <td>Kajiado</td>\n",
       "      <td>Total</td>\n",
       "      <td>3633.0</td>\n",
       "      <td>(-2.1213836, 36.9088422)</td>\n",
       "      <td>2014-12-31</td>\n",
       "    </tr>\n",
       "    <tr>\n",
       "      <th>108</th>\n",
       "      <td>Kakamega</td>\n",
       "      <td>Total</td>\n",
       "      <td>12160.0</td>\n",
       "      <td>(0.4036835, 34.7445112)</td>\n",
       "      <td>2014-12-31</td>\n",
       "    </tr>\n",
       "    <tr>\n",
       "      <th>109</th>\n",
       "      <td>Kericho</td>\n",
       "      <td>Total</td>\n",
       "      <td>5864.0</td>\n",
       "      <td>(-0.2957329, 35.31407)</td>\n",
       "      <td>2014-12-31</td>\n",
       "    </tr>\n",
       "    <tr>\n",
       "      <th>110</th>\n",
       "      <td>Kiambu</td>\n",
       "      <td>Total</td>\n",
       "      <td>7067.0</td>\n",
       "      <td>(-1.0687061, 36.8235643)</td>\n",
       "      <td>2014-12-31</td>\n",
       "    </tr>\n",
       "    <tr>\n",
       "      <th>111</th>\n",
       "      <td>Kilifi</td>\n",
       "      <td>Total</td>\n",
       "      <td>6374.0</td>\n",
       "      <td>(-3.175732, 39.6866876)</td>\n",
       "      <td>2014-12-31</td>\n",
       "    </tr>\n",
       "    <tr>\n",
       "      <th>112</th>\n",
       "      <td>Kirinyaga</td>\n",
       "      <td>Total</td>\n",
       "      <td>2824.0</td>\n",
       "      <td>(-0.5247463, 37.3198681)</td>\n",
       "      <td>2014-12-31</td>\n",
       "    </tr>\n",
       "    <tr>\n",
       "      <th>113</th>\n",
       "      <td>Kisii</td>\n",
       "      <td>Total</td>\n",
       "      <td>8623.0</td>\n",
       "      <td>(-0.7746038, 34.774723)</td>\n",
       "      <td>2014-12-31</td>\n",
       "    </tr>\n",
       "    <tr>\n",
       "      <th>114</th>\n",
       "      <td>Kisumu</td>\n",
       "      <td>Total</td>\n",
       "      <td>6883.0</td>\n",
       "      <td>(-0.1694587, 34.8352035)</td>\n",
       "      <td>2014-12-31</td>\n",
       "    </tr>\n",
       "    <tr>\n",
       "      <th>115</th>\n",
       "      <td>Kitui</td>\n",
       "      <td>Total</td>\n",
       "      <td>11215.0</td>\n",
       "      <td>(-1.4910385, 38.406921)</td>\n",
       "      <td>2014-12-31</td>\n",
       "    </tr>\n",
       "    <tr>\n",
       "      <th>116</th>\n",
       "      <td>Kwale</td>\n",
       "      <td>Total</td>\n",
       "      <td>4247.0</td>\n",
       "      <td>(-4.1831495, 39.1904119)</td>\n",
       "      <td>2014-12-31</td>\n",
       "    </tr>\n",
       "    <tr>\n",
       "      <th>117</th>\n",
       "      <td>Laikipia</td>\n",
       "      <td>Total</td>\n",
       "      <td>2652.0</td>\n",
       "      <td>(0.3236041, 36.7717279)</td>\n",
       "      <td>2014-12-31</td>\n",
       "    </tr>\n",
       "    <tr>\n",
       "      <th>118</th>\n",
       "      <td>Lamu</td>\n",
       "      <td>Total</td>\n",
       "      <td>948.0</td>\n",
       "      <td>(-2.0786825, 40.8828607)</td>\n",
       "      <td>2014-12-31</td>\n",
       "    </tr>\n",
       "    <tr>\n",
       "      <th>119</th>\n",
       "      <td>Machakos</td>\n",
       "      <td>Total</td>\n",
       "      <td>9136.0</td>\n",
       "      <td>(-1.2795123, 37.412676)</td>\n",
       "      <td>2014-12-31</td>\n",
       "    </tr>\n",
       "    <tr>\n",
       "      <th>120</th>\n",
       "      <td>Makueni</td>\n",
       "      <td>Total</td>\n",
       "      <td>8865.0</td>\n",
       "      <td>(-2.1576841, 37.7882456)</td>\n",
       "      <td>2014-12-31</td>\n",
       "    </tr>\n",
       "    <tr>\n",
       "      <th>121</th>\n",
       "      <td>Mandera</td>\n",
       "      <td>Total</td>\n",
       "      <td>1212.0</td>\n",
       "      <td>(3.4364695, 40.7388102)</td>\n",
       "      <td>2014-12-31</td>\n",
       "    </tr>\n",
       "    <tr>\n",
       "      <th>122</th>\n",
       "      <td>Marsabit</td>\n",
       "      <td>Total</td>\n",
       "      <td>1319.0</td>\n",
       "      <td>(2.9786588, 37.5695361)</td>\n",
       "      <td>2014-12-31</td>\n",
       "    </tr>\n",
       "    <tr>\n",
       "      <th>123</th>\n",
       "      <td>Meru</td>\n",
       "      <td>Total</td>\n",
       "      <td>9058.0</td>\n",
       "      <td>(0.1667792, 37.7640371)</td>\n",
       "      <td>2014-12-31</td>\n",
       "    </tr>\n",
       "    <tr>\n",
       "      <th>124</th>\n",
       "      <td>Migori</td>\n",
       "      <td>Total</td>\n",
       "      <td>6639.0</td>\n",
       "      <td>(-0.9895368, 34.3633453)</td>\n",
       "      <td>2014-12-31</td>\n",
       "    </tr>\n",
       "    <tr>\n",
       "      <th>125</th>\n",
       "      <td>Mombasa</td>\n",
       "      <td>Total</td>\n",
       "      <td>1824.0</td>\n",
       "      <td>(-4.0212562, 39.6508827)</td>\n",
       "      <td>2014-12-31</td>\n",
       "    </tr>\n",
       "    <tr>\n",
       "      <th>126</th>\n",
       "      <td>Muranga</td>\n",
       "      <td>Total</td>\n",
       "      <td>5961.0</td>\n",
       "      <td>(-0.8095905, 37.0327225)</td>\n",
       "      <td>2014-12-31</td>\n",
       "    </tr>\n",
       "    <tr>\n",
       "      <th>127</th>\n",
       "      <td>Nairobi</td>\n",
       "      <td>Total</td>\n",
       "      <td>5044.0</td>\n",
       "      <td>(-1.2934135, 36.8681893)</td>\n",
       "      <td>2014-12-31</td>\n",
       "    </tr>\n",
       "    <tr>\n",
       "      <th>128</th>\n",
       "      <td>Nakuru</td>\n",
       "      <td>Total</td>\n",
       "      <td>9573.0</td>\n",
       "      <td>(-0.4636754, 36.0784791)</td>\n",
       "      <td>2014-12-31</td>\n",
       "    </tr>\n",
       "    <tr>\n",
       "      <th>129</th>\n",
       "      <td>Nandi</td>\n",
       "      <td>Total</td>\n",
       "      <td>7061.0</td>\n",
       "      <td>(0.1866889, 35.1104877)</td>\n",
       "      <td>2014-12-31</td>\n",
       "    </tr>\n",
       "    <tr>\n",
       "      <th>130</th>\n",
       "      <td>Narok</td>\n",
       "      <td>Total</td>\n",
       "      <td>5842.0</td>\n",
       "      <td>(-1.2547903, 35.5763292)</td>\n",
       "      <td>2014-12-31</td>\n",
       "    </tr>\n",
       "    <tr>\n",
       "      <th>131</th>\n",
       "      <td>Nyamira</td>\n",
       "      <td>Total</td>\n",
       "      <td>4515.0</td>\n",
       "      <td>(-0.6427324, 34.9646596)</td>\n",
       "      <td>2014-12-31</td>\n",
       "    </tr>\n",
       "    <tr>\n",
       "      <th>132</th>\n",
       "      <td>Nyandarua</td>\n",
       "      <td>Total</td>\n",
       "      <td>4074.0</td>\n",
       "      <td>(-0.3220778, 36.4828692)</td>\n",
       "      <td>2014-12-31</td>\n",
       "    </tr>\n",
       "    <tr>\n",
       "      <th>133</th>\n",
       "      <td>Nyeri</td>\n",
       "      <td>Total</td>\n",
       "      <td>4507.0</td>\n",
       "      <td>(-0.3429236, 36.9564781)</td>\n",
       "      <td>2014-12-31</td>\n",
       "    </tr>\n",
       "    <tr>\n",
       "      <th>134</th>\n",
       "      <td>Samburu</td>\n",
       "      <td>Total</td>\n",
       "      <td>1095.0</td>\n",
       "      <td>(1.3168546, 37.1183941)</td>\n",
       "      <td>2014-12-31</td>\n",
       "    </tr>\n",
       "    <tr>\n",
       "      <th>135</th>\n",
       "      <td>Siaya</td>\n",
       "      <td>Total</td>\n",
       "      <td>6894.0</td>\n",
       "      <td>(-0.0621299, 34.2476417)</td>\n",
       "      <td>2014-12-31</td>\n",
       "    </tr>\n",
       "    <tr>\n",
       "      <th>136</th>\n",
       "      <td>Taita Taveta</td>\n",
       "      <td>Total</td>\n",
       "      <td>2244.0</td>\n",
       "      <td>(-3.434734, 38.418602)</td>\n",
       "      <td>2014-12-31</td>\n",
       "    </tr>\n",
       "    <tr>\n",
       "      <th>137</th>\n",
       "      <td>Tana River</td>\n",
       "      <td>Total</td>\n",
       "      <td>1280.0</td>\n",
       "      <td>(-1.5263666, 39.4178692)</td>\n",
       "      <td>2014-12-31</td>\n",
       "    </tr>\n",
       "    <tr>\n",
       "      <th>138</th>\n",
       "      <td>Tharaka-Nithi</td>\n",
       "      <td>Total</td>\n",
       "      <td>4279.0</td>\n",
       "      <td>(-0.2070612, 37.8702973)</td>\n",
       "      <td>2014-12-31</td>\n",
       "    </tr>\n",
       "    <tr>\n",
       "      <th>139</th>\n",
       "      <td>Trans Nzoia</td>\n",
       "      <td>Total</td>\n",
       "      <td>4804.0</td>\n",
       "      <td>(1.0509548, 34.95742)</td>\n",
       "      <td>2014-12-31</td>\n",
       "    </tr>\n",
       "    <tr>\n",
       "      <th>140</th>\n",
       "      <td>Turkana</td>\n",
       "      <td>Total</td>\n",
       "      <td>2231.0</td>\n",
       "      <td>(3.4248492, 35.4357585)</td>\n",
       "      <td>2014-12-31</td>\n",
       "    </tr>\n",
       "    <tr>\n",
       "      <th>141</th>\n",
       "      <td>Uasin Gishu</td>\n",
       "      <td>Total</td>\n",
       "      <td>5415.0</td>\n",
       "      <td>(0.5260859, 35.3220117)</td>\n",
       "      <td>2014-12-31</td>\n",
       "    </tr>\n",
       "    <tr>\n",
       "      <th>142</th>\n",
       "      <td>Vihiga</td>\n",
       "      <td>Total</td>\n",
       "      <td>4768.0</td>\n",
       "      <td>(0.0762658, 34.722323)</td>\n",
       "      <td>2014-12-31</td>\n",
       "    </tr>\n",
       "    <tr>\n",
       "      <th>143</th>\n",
       "      <td>Wajir</td>\n",
       "      <td>Total</td>\n",
       "      <td>1223.0</td>\n",
       "      <td>(1.8081376, 40.0349856)</td>\n",
       "      <td>2014-12-31</td>\n",
       "    </tr>\n",
       "    <tr>\n",
       "      <th>144</th>\n",
       "      <td>West Pokot</td>\n",
       "      <td>Total</td>\n",
       "      <td>4222.0</td>\n",
       "      <td>(1.7401062, 35.2438468)</td>\n",
       "      <td>2014-12-31</td>\n",
       "    </tr>\n",
       "    <tr>\n",
       "      <th>145</th>\n",
       "      <td>Kenya</td>\n",
       "      <td>Total</td>\n",
       "      <td>242071.0</td>\n",
       "      <td>NaN</td>\n",
       "      <td>2014-12-31</td>\n",
       "    </tr>\n",
       "  </tbody>\n",
       "</table>\n",
       "</div>"
      ],
      "text/plain": [
       "              County Employment Body  Total Number         County (Centroid)  \\\n",
       "98           Baringo           Total        5750.0    (0.669252, 35.9464654)   \n",
       "99             Bomet           Total        6493.0  (-0.7262946, 35.2985976)   \n",
       "100          Bungoma           Total        9920.0   (0.7492852, 34.6404609)   \n",
       "101            Busia           Total        5637.0   (0.3874437, 34.1936315)   \n",
       "102  Elgeyo Marakwet           Total        4229.0   (0.8022188, 35.5365631)   \n",
       "103             Embu           Total        4230.0  (-0.6039744, 37.6265013)   \n",
       "104          Garissa           Total        1115.0  (-0.4889103, 40.1992785)   \n",
       "105         Homa Bay           Total        8189.0  (-0.5428094, 34.3589969)   \n",
       "106           Isiolo           Total         933.0   (1.0104431, 38.5421531)   \n",
       "107          Kajiado           Total        3633.0  (-2.1213836, 36.9088422)   \n",
       "108         Kakamega           Total       12160.0   (0.4036835, 34.7445112)   \n",
       "109          Kericho           Total        5864.0    (-0.2957329, 35.31407)   \n",
       "110           Kiambu           Total        7067.0  (-1.0687061, 36.8235643)   \n",
       "111           Kilifi           Total        6374.0   (-3.175732, 39.6866876)   \n",
       "112        Kirinyaga           Total        2824.0  (-0.5247463, 37.3198681)   \n",
       "113            Kisii           Total        8623.0   (-0.7746038, 34.774723)   \n",
       "114           Kisumu           Total        6883.0  (-0.1694587, 34.8352035)   \n",
       "115            Kitui           Total       11215.0   (-1.4910385, 38.406921)   \n",
       "116            Kwale           Total        4247.0  (-4.1831495, 39.1904119)   \n",
       "117         Laikipia           Total        2652.0   (0.3236041, 36.7717279)   \n",
       "118             Lamu           Total         948.0  (-2.0786825, 40.8828607)   \n",
       "119         Machakos           Total        9136.0   (-1.2795123, 37.412676)   \n",
       "120          Makueni           Total        8865.0  (-2.1576841, 37.7882456)   \n",
       "121          Mandera           Total        1212.0   (3.4364695, 40.7388102)   \n",
       "122         Marsabit           Total        1319.0   (2.9786588, 37.5695361)   \n",
       "123             Meru           Total        9058.0   (0.1667792, 37.7640371)   \n",
       "124           Migori           Total        6639.0  (-0.9895368, 34.3633453)   \n",
       "125          Mombasa           Total        1824.0  (-4.0212562, 39.6508827)   \n",
       "126          Muranga           Total        5961.0  (-0.8095905, 37.0327225)   \n",
       "127          Nairobi           Total        5044.0  (-1.2934135, 36.8681893)   \n",
       "128           Nakuru           Total        9573.0  (-0.4636754, 36.0784791)   \n",
       "129            Nandi           Total        7061.0   (0.1866889, 35.1104877)   \n",
       "130            Narok           Total        5842.0  (-1.2547903, 35.5763292)   \n",
       "131          Nyamira           Total        4515.0  (-0.6427324, 34.9646596)   \n",
       "132        Nyandarua           Total        4074.0  (-0.3220778, 36.4828692)   \n",
       "133            Nyeri           Total        4507.0  (-0.3429236, 36.9564781)   \n",
       "134          Samburu           Total        1095.0   (1.3168546, 37.1183941)   \n",
       "135            Siaya           Total        6894.0  (-0.0621299, 34.2476417)   \n",
       "136     Taita Taveta           Total        2244.0    (-3.434734, 38.418602)   \n",
       "137       Tana River           Total        1280.0  (-1.5263666, 39.4178692)   \n",
       "138    Tharaka-Nithi           Total        4279.0  (-0.2070612, 37.8702973)   \n",
       "139      Trans Nzoia           Total        4804.0     (1.0509548, 34.95742)   \n",
       "140          Turkana           Total        2231.0   (3.4248492, 35.4357585)   \n",
       "141      Uasin Gishu           Total        5415.0   (0.5260859, 35.3220117)   \n",
       "142           Vihiga           Total        4768.0    (0.0762658, 34.722323)   \n",
       "143            Wajir           Total        1223.0   (1.8081376, 40.0349856)   \n",
       "144       West Pokot           Total        4222.0   (1.7401062, 35.2438468)   \n",
       "145            Kenya           Total      242071.0                       NaN   \n",
       "\n",
       "          Year  \n",
       "98  2014-12-31  \n",
       "99  2014-12-31  \n",
       "100 2014-12-31  \n",
       "101 2014-12-31  \n",
       "102 2014-12-31  \n",
       "103 2014-12-31  \n",
       "104 2014-12-31  \n",
       "105 2014-12-31  \n",
       "106 2014-12-31  \n",
       "107 2014-12-31  \n",
       "108 2014-12-31  \n",
       "109 2014-12-31  \n",
       "110 2014-12-31  \n",
       "111 2014-12-31  \n",
       "112 2014-12-31  \n",
       "113 2014-12-31  \n",
       "114 2014-12-31  \n",
       "115 2014-12-31  \n",
       "116 2014-12-31  \n",
       "117 2014-12-31  \n",
       "118 2014-12-31  \n",
       "119 2014-12-31  \n",
       "120 2014-12-31  \n",
       "121 2014-12-31  \n",
       "122 2014-12-31  \n",
       "123 2014-12-31  \n",
       "124 2014-12-31  \n",
       "125 2014-12-31  \n",
       "126 2014-12-31  \n",
       "127 2014-12-31  \n",
       "128 2014-12-31  \n",
       "129 2014-12-31  \n",
       "130 2014-12-31  \n",
       "131 2014-12-31  \n",
       "132 2014-12-31  \n",
       "133 2014-12-31  \n",
       "134 2014-12-31  \n",
       "135 2014-12-31  \n",
       "136 2014-12-31  \n",
       "137 2014-12-31  \n",
       "138 2014-12-31  \n",
       "139 2014-12-31  \n",
       "140 2014-12-31  \n",
       "141 2014-12-31  \n",
       "142 2014-12-31  \n",
       "143 2014-12-31  \n",
       "144 2014-12-31  \n",
       "145 2014-12-31  "
      ]
     },
     "execution_count": 260,
     "metadata": {},
     "output_type": "execute_result"
    }
   ],
   "source": [
    "TeacherCounty[TeacherCounty['Employment Body'] == 'Total']"
   ]
  },
  {
   "cell_type": "code",
   "execution_count": 262,
   "metadata": {},
   "outputs": [
    {
     "data": {
      "text/html": [
       "<div>\n",
       "<style scoped>\n",
       "    .dataframe tbody tr th:only-of-type {\n",
       "        vertical-align: middle;\n",
       "    }\n",
       "\n",
       "    .dataframe tbody tr th {\n",
       "        vertical-align: top;\n",
       "    }\n",
       "\n",
       "    .dataframe thead th {\n",
       "        text-align: right;\n",
       "    }\n",
       "</style>\n",
       "<table border=\"1\" class=\"dataframe\">\n",
       "  <thead>\n",
       "    <tr style=\"text-align: right;\">\n",
       "      <th></th>\n",
       "      <th>County</th>\n",
       "      <th>School Type</th>\n",
       "      <th>Employment Body</th>\n",
       "      <th>No of Teachers</th>\n",
       "      <th>County (centroid)</th>\n",
       "      <th>Year</th>\n",
       "    </tr>\n",
       "  </thead>\n",
       "  <tbody>\n",
       "    <tr>\n",
       "      <th>47</th>\n",
       "      <td>Kenya</td>\n",
       "      <td>Public</td>\n",
       "      <td>TSC</td>\n",
       "      <td>72194</td>\n",
       "      <td>NaN</td>\n",
       "      <td>2014-12-31</td>\n",
       "    </tr>\n",
       "    <tr>\n",
       "      <th>95</th>\n",
       "      <td>Kenya</td>\n",
       "      <td>Public</td>\n",
       "      <td>SMC</td>\n",
       "      <td>35524</td>\n",
       "      <td>NaN</td>\n",
       "      <td>2014-12-31</td>\n",
       "    </tr>\n",
       "    <tr>\n",
       "      <th>143</th>\n",
       "      <td>Kenya</td>\n",
       "      <td>Private</td>\n",
       "      <td>Private</td>\n",
       "      <td>10890</td>\n",
       "      <td>NaN</td>\n",
       "      <td>2014-12-31</td>\n",
       "    </tr>\n",
       "    <tr>\n",
       "      <th>191</th>\n",
       "      <td>Kenya</td>\n",
       "      <td>Private</td>\n",
       "      <td>TSC</td>\n",
       "      <td>0</td>\n",
       "      <td>NaN</td>\n",
       "      <td>2014-12-31</td>\n",
       "    </tr>\n",
       "  </tbody>\n",
       "</table>\n",
       "</div>"
      ],
      "text/plain": [
       "    County School Type Employment Body  No of Teachers County (centroid)  \\\n",
       "47   Kenya      Public             TSC           72194               NaN   \n",
       "95   Kenya      Public             SMC           35524               NaN   \n",
       "143  Kenya     Private         Private           10890               NaN   \n",
       "191  Kenya     Private             TSC               0               NaN   \n",
       "\n",
       "          Year  \n",
       "47  2014-12-31  \n",
       "95  2014-12-31  \n",
       "143 2014-12-31  \n",
       "191 2014-12-31  "
      ]
     },
     "execution_count": 262,
     "metadata": {},
     "output_type": "execute_result"
    }
   ],
   "source": [
    "TeacherStatus[TeacherStatus[\"County\"]== 'Kenya']"
   ]
  },
  {
   "cell_type": "markdown",
   "metadata": {},
   "source": [
    "Observation: From the table TeacherStatus the sum of all teachers is under the county 'Kenya' so to ensure data inetgrity we create a new dataFrame from this and delete the 'Kenya' rows from the Teacher Status dataframe"
   ]
  },
  {
   "cell_type": "code",
   "execution_count": 264,
   "metadata": {},
   "outputs": [
    {
     "data": {
      "text/html": [
       "<div>\n",
       "<style scoped>\n",
       "    .dataframe tbody tr th:only-of-type {\n",
       "        vertical-align: middle;\n",
       "    }\n",
       "\n",
       "    .dataframe tbody tr th {\n",
       "        vertical-align: top;\n",
       "    }\n",
       "\n",
       "    .dataframe thead th {\n",
       "        text-align: right;\n",
       "    }\n",
       "</style>\n",
       "<table border=\"1\" class=\"dataframe\">\n",
       "  <thead>\n",
       "    <tr style=\"text-align: right;\">\n",
       "      <th></th>\n",
       "      <th>County</th>\n",
       "      <th>School Type</th>\n",
       "      <th>Employment Body</th>\n",
       "      <th>No of Teachers</th>\n",
       "      <th>County (centroid)</th>\n",
       "      <th>Year</th>\n",
       "    </tr>\n",
       "  </thead>\n",
       "  <tbody>\n",
       "    <tr>\n",
       "      <th>47</th>\n",
       "      <td>Kenya</td>\n",
       "      <td>Public</td>\n",
       "      <td>TSC</td>\n",
       "      <td>72194</td>\n",
       "      <td>NaN</td>\n",
       "      <td>2014-12-31</td>\n",
       "    </tr>\n",
       "    <tr>\n",
       "      <th>95</th>\n",
       "      <td>Kenya</td>\n",
       "      <td>Public</td>\n",
       "      <td>SMC</td>\n",
       "      <td>35524</td>\n",
       "      <td>NaN</td>\n",
       "      <td>2014-12-31</td>\n",
       "    </tr>\n",
       "    <tr>\n",
       "      <th>143</th>\n",
       "      <td>Kenya</td>\n",
       "      <td>Private</td>\n",
       "      <td>Private</td>\n",
       "      <td>10890</td>\n",
       "      <td>NaN</td>\n",
       "      <td>2014-12-31</td>\n",
       "    </tr>\n",
       "    <tr>\n",
       "      <th>191</th>\n",
       "      <td>Kenya</td>\n",
       "      <td>Private</td>\n",
       "      <td>TSC</td>\n",
       "      <td>0</td>\n",
       "      <td>NaN</td>\n",
       "      <td>2014-12-31</td>\n",
       "    </tr>\n",
       "  </tbody>\n",
       "</table>\n",
       "</div>"
      ],
      "text/plain": [
       "    County School Type Employment Body  No of Teachers County (centroid)  \\\n",
       "47   Kenya      Public             TSC           72194               NaN   \n",
       "95   Kenya      Public             SMC           35524               NaN   \n",
       "143  Kenya     Private         Private           10890               NaN   \n",
       "191  Kenya     Private             TSC               0               NaN   \n",
       "\n",
       "          Year  \n",
       "47  2014-12-31  \n",
       "95  2014-12-31  \n",
       "143 2014-12-31  \n",
       "191 2014-12-31  "
      ]
     },
     "execution_count": 264,
     "metadata": {},
     "output_type": "execute_result"
    }
   ],
   "source": [
    "total_teachers_df = TeacherStatus.loc[TeacherStatus['County'] == 'Kenya']\n",
    "total_teachers_df"
   ]
  },
  {
   "cell_type": "code",
   "execution_count": 265,
   "metadata": {},
   "outputs": [],
   "source": [
    "# Drop the rows where the County is Kenya from the TeacherStatus DataFrame\n",
    "TeacherStatus = TeacherStatus.drop(TeacherStatus[TeacherStatus['County'] == 'Kenya'].index)"
   ]
  },
  {
   "cell_type": "code",
   "execution_count": 268,
   "metadata": {},
   "outputs": [
    {
     "data": {
      "text/plain": [
       "47"
      ]
     },
     "execution_count": 268,
     "metadata": {},
     "output_type": "execute_result"
    }
   ],
   "source": [
    "TeacherStatus['County'].nunique()"
   ]
  },
  {
   "cell_type": "code",
   "execution_count": 269,
   "metadata": {},
   "outputs": [
    {
     "data": {
      "text/plain": [
       "array(['TSC', 'SMC', 'Private'], dtype=object)"
      ]
     },
     "execution_count": 269,
     "metadata": {},
     "output_type": "execute_result"
    }
   ],
   "source": [
    "TeacherStatus['Employment Body'].unique()"
   ]
  },
  {
   "cell_type": "code",
   "execution_count": null,
   "metadata": {},
   "outputs": [
    {
     "data": {
      "text/plain": [
       "array(['Public', 'Private'], dtype=object)"
      ]
     },
     "execution_count": 116,
     "metadata": {},
     "output_type": "execute_result"
    }
   ],
   "source": [
    "TeacherStatus['School Type'].unique()"
   ]
  },
  {
   "cell_type": "markdown",
   "metadata": {},
   "source": [
    "### Webscraping county data"
   ]
  },
  {
   "cell_type": "code",
   "execution_count": 270,
   "metadata": {},
   "outputs": [],
   "source": [
    "# Fetch data for the county and their codes from url\n",
    "import requests\n",
    "from bs4 import BeautifulSoup \n",
    "\n",
    "\n",
    "url = \"https://en.wikipedia.org/wiki/Counties_of_Kenya\" # URL containing the list of Kenyan counties\n",
    "\n",
    "# Fetch the list of counties from the URL\n",
    "response = requests.get(url)\n",
    "response.raise_for_status()  # Raise an error for bad responses\n",
    "\n",
    "# Parse the HTML content using BeautifulSoup\n",
    "soup = BeautifulSoup(response.text, 'html.parser')\n",
    "\n",
    "# Find the table with counties (assumed to be the first table on the page)\n",
    "table = soup.find('table', {'class': 'wikitable'})"
   ]
  },
  {
   "cell_type": "code",
   "execution_count": 271,
   "metadata": {},
   "outputs": [],
   "source": [
    "# Extract counties from the table\n",
    "data = []\n",
    "for row in table.find_all('tr')[1:]:  # Skip the header row\n",
    "    cells = row.find_all('td')\n",
    "    if len(cells) >= 3:  # Ensure there are enough columns\n",
    "        county_data = {\n",
    "            'Code': cells[0].get_text(strip=True),\n",
    "            'County': cells[1].get_text(strip=True)\n",
    "            \n",
    "        }\n",
    "        data.append(county_data)\n",
    "\n",
    "# Convert to DataFrame\n",
    "counties_data = pd.DataFrame(data)\n",
    "counties_data.set_index('Code', inplace=True)"
   ]
  },
  {
   "cell_type": "code",
   "execution_count": 272,
   "metadata": {},
   "outputs": [],
   "source": [
    "# Renaming the counties\n",
    "counties_data[\"County\"] = counties_data[\"County\"].replace(\n",
    "    {\n",
    "        \"Elgeyo-Marakwet\" : 'Elgeyo Marakwet',\n",
    "        \"Trans-Nzoia\": 'Trans Nzoia',\n",
    "        \"Murang'a\" : 'Muranga',\n",
    "        \"Taita–Taveta\": 'Taita Taveta'\n",
    "      \n",
    "        \n",
    "    }\n",
    ")"
   ]
  },
  {
   "cell_type": "code",
   "execution_count": 273,
   "metadata": {},
   "outputs": [
    {
     "data": {
      "text/html": [
       "<div>\n",
       "<style scoped>\n",
       "    .dataframe tbody tr th:only-of-type {\n",
       "        vertical-align: middle;\n",
       "    }\n",
       "\n",
       "    .dataframe tbody tr th {\n",
       "        vertical-align: top;\n",
       "    }\n",
       "\n",
       "    .dataframe thead th {\n",
       "        text-align: right;\n",
       "    }\n",
       "</style>\n",
       "<table border=\"1\" class=\"dataframe\">\n",
       "  <thead>\n",
       "    <tr style=\"text-align: right;\">\n",
       "      <th></th>\n",
       "      <th>County</th>\n",
       "    </tr>\n",
       "    <tr>\n",
       "      <th>Code</th>\n",
       "      <th></th>\n",
       "    </tr>\n",
       "  </thead>\n",
       "  <tbody>\n",
       "    <tr>\n",
       "      <th>1</th>\n",
       "      <td>Mombasa</td>\n",
       "    </tr>\n",
       "    <tr>\n",
       "      <th>2</th>\n",
       "      <td>Kwale</td>\n",
       "    </tr>\n",
       "    <tr>\n",
       "      <th>3</th>\n",
       "      <td>Kilifi</td>\n",
       "    </tr>\n",
       "    <tr>\n",
       "      <th>4</th>\n",
       "      <td>Tana River</td>\n",
       "    </tr>\n",
       "    <tr>\n",
       "      <th>5</th>\n",
       "      <td>Lamu</td>\n",
       "    </tr>\n",
       "  </tbody>\n",
       "</table>\n",
       "</div>"
      ],
      "text/plain": [
       "          County\n",
       "Code            \n",
       "1        Mombasa\n",
       "2          Kwale\n",
       "3         Kilifi\n",
       "4     Tana River\n",
       "5           Lamu"
      ]
     },
     "execution_count": 273,
     "metadata": {},
     "output_type": "execute_result"
    }
   ],
   "source": [
    "counties_data.head()"
   ]
  },
  {
   "cell_type": "markdown",
   "metadata": {},
   "source": [
    "### Extract Unique Dimension Data"
   ]
  },
  {
   "cell_type": "code",
   "execution_count": 274,
   "metadata": {},
   "outputs": [],
   "source": [
    "# Extract unique values for dimensions\n",
    "counties = TeacherStatus['County'].unique()\n",
    "school_types = TeacherStatus['School Type'].unique()\n",
    "employment_bodies = TeacherStatus['Employment Body'].unique()"
   ]
  },
  {
   "cell_type": "code",
   "execution_count": 275,
   "metadata": {},
   "outputs": [],
   "source": [
    "# Prepare unique dataframes for dimension tables\n",
    "counties_df = pd.DataFrame(counties, columns= ['County'])\n",
    "school_type_df = pd.DataFrame(school_types, columns=['School Type'])\n",
    "employment_body_df = pd.DataFrame(employment_bodies, columns=['Employment Body'])"
   ]
  },
  {
   "cell_type": "code",
   "execution_count": 276,
   "metadata": {},
   "outputs": [],
   "source": [
    "# Extract years\n",
    "years = TeacherStatus[\"Year\"].unique()\n",
    "year_df = pd.DataFrame(years, columns=['Year'])"
   ]
  },
  {
   "cell_type": "code",
   "execution_count": 277,
   "metadata": {},
   "outputs": [
    {
     "data": {
      "text/html": [
       "<div>\n",
       "<style scoped>\n",
       "    .dataframe tbody tr th:only-of-type {\n",
       "        vertical-align: middle;\n",
       "    }\n",
       "\n",
       "    .dataframe tbody tr th {\n",
       "        vertical-align: top;\n",
       "    }\n",
       "\n",
       "    .dataframe thead th {\n",
       "        text-align: right;\n",
       "    }\n",
       "</style>\n",
       "<table border=\"1\" class=\"dataframe\">\n",
       "  <thead>\n",
       "    <tr style=\"text-align: right;\">\n",
       "      <th></th>\n",
       "      <th>Year</th>\n",
       "    </tr>\n",
       "  </thead>\n",
       "  <tbody>\n",
       "    <tr>\n",
       "      <th>0</th>\n",
       "      <td>2014-12-31</td>\n",
       "    </tr>\n",
       "  </tbody>\n",
       "</table>\n",
       "</div>"
      ],
      "text/plain": [
       "        Year\n",
       "0 2014-12-31"
      ]
     },
     "execution_count": 277,
     "metadata": {},
     "output_type": "execute_result"
    }
   ],
   "source": [
    "year_df"
   ]
  },
  {
   "cell_type": "code",
   "execution_count": 278,
   "metadata": {},
   "outputs": [
    {
     "name": "stdout",
     "output_type": "stream",
     "text": [
      "<class 'pandas.core.frame.DataFrame'>\n",
      "Index: 188 entries, 0 to 190\n",
      "Data columns (total 6 columns):\n",
      " #   Column             Non-Null Count  Dtype         \n",
      "---  ------             --------------  -----         \n",
      " 0   County             188 non-null    object        \n",
      " 1   School Type        188 non-null    object        \n",
      " 2   Employment Body    188 non-null    object        \n",
      " 3   No of Teachers     188 non-null    int64         \n",
      " 4   County (centroid)  188 non-null    object        \n",
      " 5   Year               188 non-null    datetime64[ns]\n",
      "dtypes: datetime64[ns](1), int64(1), object(4)\n",
      "memory usage: 10.3+ KB\n"
     ]
    }
   ],
   "source": [
    "TeacherStatus.info()"
   ]
  },
  {
   "cell_type": "code",
   "execution_count": 280,
   "metadata": {},
   "outputs": [],
   "source": [
    "# counties_df[\"County\"] =  counties_data[\"County\"].replace({})"
   ]
  },
  {
   "cell_type": "code",
   "execution_count": 279,
   "metadata": {},
   "outputs": [
    {
     "name": "stdout",
     "output_type": "stream",
     "text": [
      "Counties in df1 but not in df2: []\n",
      "Counties in df2 but not in df1: []\n"
     ]
    }
   ],
   "source": [
    "import numpy as np\n",
    "\n",
    "# Validating the county data\n",
    "# Step 1: Extract and clean county names\n",
    "df1_counties = counties_data['County'].str.strip()\n",
    "df2_counties = counties_df['County'].str.strip()\n",
    "\n",
    "# Step 2: Convert to numpy arrays for easier comparison\n",
    "df1_counties = df1_counties.values\n",
    "df2_counties = df2_counties.values\n",
    "\n",
    "# Step 3: Find differences between the two lists\n",
    "missing_in_df2 = np.setdiff1d(df1_counties, df2_counties)  # Present in df1 but missing in df2\n",
    "extra_in_df2 = np.setdiff1d(df2_counties, df1_counties)    # Present in df2 but missing in df1\n",
    "\n",
    "print(\"Counties in df1 but not in df2:\", missing_in_df2)\n",
    "print(\"Counties in df2 but not in df1:\", extra_in_df2)"
   ]
  },
  {
   "cell_type": "markdown",
   "metadata": {},
   "source": [
    "# From csv to database"
   ]
  },
  {
   "cell_type": "code",
   "execution_count": null,
   "metadata": {},
   "outputs": [],
   "source": [
    "# connect to database\n",
    "cur, conn = create_database()"
   ]
  },
  {
   "cell_type": "markdown",
   "metadata": {},
   "source": [
    "#### Creating the dimension tables"
   ]
  },
  {
   "cell_type": "code",
   "execution_count": 282,
   "metadata": {},
   "outputs": [],
   "source": [
    "try:\n",
    "    cur.execute(\n",
    "        \"\"\"\n",
    "        CREATE TABLE IF NOT EXISTS County (\n",
    "            County_ID SERIAL PRIMARY KEY,\n",
    "            County VARCHAR(255) ,\n",
    "            County_Centroid VARCHAR(255),\n",
    "            UNIQUE (County, County_Centroid)\n",
    "            \n",
    "        );\n",
    "        \n",
    "        \"\"\"\n",
    "    )\n",
    "    conn.commit()\n",
    "except Exception as e:\n",
    "    conn.rollback()\n",
    "    print(f\"Error creating County table: {e}\")      \n",
    "    "
   ]
  },
  {
   "cell_type": "code",
   "execution_count": 283,
   "metadata": {},
   "outputs": [],
   "source": [
    "try:\n",
    "    cur.execute(\"\"\"\n",
    "        CREATE TABLE IF NOT EXISTS School_Type (\n",
    "            School_Type_ID SERIAL PRIMARY KEY,\n",
    "            School_Type VARCHAR(255) UNIQUE\n",
    "        );\n",
    "    \"\"\")\n",
    "    conn.commit()\n",
    "except Exception as e:\n",
    "    conn.rollback()\n",
    "    print(f\"Error creating School_Type table: {e}\")\n"
   ]
  },
  {
   "cell_type": "code",
   "execution_count": 284,
   "metadata": {},
   "outputs": [],
   "source": [
    "try:\n",
    "    cur.execute(\"\"\"\n",
    "        CREATE TABLE IF NOT EXISTS Employment_Body (\n",
    "            Employment_Body_ID SERIAL PRIMARY KEY,\n",
    "            Employment_Body VARCHAR(255) UNIQUE\n",
    "        );\n",
    "    \"\"\")\n",
    "    conn.commit()\n",
    "except Exception as e:\n",
    "    conn.rollback()\n",
    "    print(f\"Error creating Employment_Body table: {e}\")"
   ]
  },
  {
   "cell_type": "code",
   "execution_count": 285,
   "metadata": {},
   "outputs": [],
   "source": [
    "try:\n",
    "    cur.execute(\"\"\"\n",
    "        CREATE TABLE IF NOT EXISTS Year (\n",
    "            Year_ID SERIAL PRIMARY KEY,\n",
    "            Year DATE UNIQUE\n",
    "        );\n",
    "    \"\"\")\n",
    "    conn.commit()\n",
    "except psycopg2.Error as e:\n",
    "    conn.rollback()\n",
    "    print(f\"Error creating Year table: {e}\")"
   ]
  },
  {
   "cell_type": "code",
   "execution_count": 307,
   "metadata": {},
   "outputs": [],
   "source": [
    "# Fact table\n",
    "\n",
    "fact_table = \"\"\"\n",
    "\n",
    "CREATE TABLE IF NOT EXISTS Fact_Table (\n",
    "    Fact_ID SERIAL PRIMARY KEY,\n",
    "    County_ID INT REFERENCES County(County_ID),\n",
    "    School_Type_ID INT REFERENCES School_Type(School_Type_ID),\n",
    "    Employment_Body_ID INT REFERENCES Employment_Body(Employment_Body_ID),\n",
    "    Year_ID INT REFERENCES Year(Year_ID),\n",
    "    No_of_Teachers INT\n",
    ");\n",
    "\n",
    "\n",
    "\"\"\""
   ]
  },
  {
   "cell_type": "code",
   "execution_count": 308,
   "metadata": {},
   "outputs": [],
   "source": [
    "try:\n",
    "    cur.execute(fact_table)\n",
    "    conn.commit()\n",
    "except Exception as e:\n",
    "    conn.rollback()  \n",
    "    print(f\"Error creating Fact table: {e}\")"
   ]
  },
  {
   "cell_type": "markdown",
   "metadata": {},
   "source": [
    "### Insert data into the tables"
   ]
  },
  {
   "cell_type": "code",
   "execution_count": 311,
   "metadata": {},
   "outputs": [],
   "source": [
    "# List of queries\n",
    "county_table_insert = (\n",
    "    \"\"\"\n",
    "    INSERT INTO County (County, County_Centroid )\n",
    "    VALUES (%s, %s)\n",
    "    ON CONFLICT (County, County_Centroid) DO NOTHING;\n",
    "    \"\"\"\n",
    ")\n",
    "\n",
    "school_type_insert = (\n",
    "    \"\"\"\n",
    "    INSERT INTO School_Type (School_Type) VALUES (%s)\n",
    "    ON CONFLICT (School_Type) DO NOTHING;\n",
    "\n",
    "    \"\"\"\n",
    ") \n",
    "\n",
    "\n",
    "employment_body_insert = (\n",
    "    \"\"\"\n",
    "    INSERT INTO Employment_Body (Employment_Body )\n",
    "    VALUES (%s)\n",
    "    ON CONFLICT (Employment_Body) DO NOTHING;\n",
    "    \"\"\"\n",
    ")\n",
    "\n",
    "\n",
    "year_table_insert = (\n",
    "    \"\"\"\n",
    "    INSERT INTO Year (Year) \n",
    "    VALUES (%s)\n",
    "    ON CONFLICT (Year) DO NOTHING;\n",
    "    \"\"\"\n",
    ")\n",
    "\n",
    "\n",
    "fact_table_insert = (\n",
    "    \"\"\"\n",
    "    INSERT INTO Fact_Table (County_ID, School_Type_ID, Employment_Body_ID, Year_ID, No_of_Teachers)\n",
    "    VALUES (%s, %s, %s, %s, %s);\n",
    "    \"\"\"\n",
    ")\n",
    "\n"
   ]
  },
  {
   "cell_type": "code",
   "execution_count": 300,
   "metadata": {},
   "outputs": [
    {
     "data": {
      "text/plain": [
       "Index(['County', 'School Type', 'Employment Body', 'No of Teachers',\n",
       "       'County (centroid)', 'Year'],\n",
       "      dtype='object')"
      ]
     },
     "execution_count": 300,
     "metadata": {},
     "output_type": "execute_result"
    }
   ],
   "source": [
    "TeacherStatus.columns"
   ]
  },
  {
   "cell_type": "code",
   "execution_count": 289,
   "metadata": {},
   "outputs": [],
   "source": [
    "# Insert data into the county table\n",
    "for index,row in TeacherStatus.iterrows():\n",
    "    try:\n",
    "        cur.execute(county_table_insert, (row['County'], row['County (centroid)'])) # pass row values as a tuple\n",
    "        conn.commit()\n",
    "    except psycopg2.Error as e:\n",
    "        print(f\"Error inserting {row['County']} with centroid {row['County (centroid)']}: {e}\")\n",
    "        conn.rollback()"
   ]
  },
  {
   "cell_type": "code",
   "execution_count": 290,
   "metadata": {},
   "outputs": [],
   "source": [
    "# Insert data into School_Type table\n",
    "for school_type in TeacherStatus['School Type'].unique():\n",
    "    try:\n",
    "        # Ensure school_type is passed as a tuple with one element\n",
    "        cur.execute(school_type_insert, (school_type,))\n",
    "        conn.commit()\n",
    "    except Exception as e:\n",
    "        print(f\"Error inserting {school_type}: {e}\")\n",
    "        conn.rollback()\n",
    "        \n",
    "    "
   ]
  },
  {
   "cell_type": "code",
   "execution_count": 291,
   "metadata": {},
   "outputs": [],
   "source": [
    "# Insert data in Employment Body_Type\n",
    "for emp_body in TeacherStatus['Employment Body'].unique():\n",
    "    try:\n",
    "        cur.execute(employment_body_insert, (emp_body,))\n",
    "        conn.commit()\n",
    "    except psycopg2.Error as e:\n",
    "        print(f'Error inserting {emp_body}: {e}')\n",
    "        conn.rollback()"
   ]
  },
  {
   "cell_type": "code",
   "execution_count": 292,
   "metadata": {},
   "outputs": [],
   "source": [
    "# Insert data into Year table\n",
    "for year in TeacherStatus['Year'].unique():\n",
    "    try:\n",
    "        cur.execute(year_table_insert, (year,))\n",
    "        conn.commit()\n",
    "    except psycopg2.Error as e:\n",
    "        print(f'Error inserting {year}: {e}')\n",
    "        conn.rollback()"
   ]
  },
  {
   "cell_type": "code",
   "execution_count": 295,
   "metadata": {},
   "outputs": [],
   "source": [
    "# Function to get IDs from dimension tables\n",
    "def get_ids(table_name, column_name, value):\n",
    "    cur.execute(f\"SELECT {table_name}_ID FROM {table_name} WHERE {column_name} = %s;\", (value,))\n",
    "    result = cur.fetchone()\n",
    "    return result[0] if result else None\n",
    "\n",
    "# Function to get Year_ID based on the Year\n",
    "def get_year_id(year_value):\n",
    "    cur.execute(\"SELECT Year_ID FROM Year WHERE EXTRACT(YEAR FROM Year) = %s;\", (year_value.year,))\n",
    "    result = cur.fetchone()\n",
    "    return result[0] if result else None"
   ]
  },
  {
   "cell_type": "code",
   "execution_count": 313,
   "metadata": {},
   "outputs": [],
   "source": [
    "# Insert data into the Fact Table\n",
    "for index, row in TeacherStatus.iterrows():\n",
    "    try:\n",
    "        # Get IDs for each dimension\n",
    "        county_id = get_ids('County', 'County', row['County'])\n",
    "        school_type_id = get_ids('School_Type', 'School_Type', row['School Type'])\n",
    "        emp_body_id = get_ids('Employment_Body', 'Employment_Body', row['Employment Body'])\n",
    "        year_id = get_year_id(row['Year'])\n",
    "        \n",
    "        # Insert data into Fact Table\n",
    "        cur.execute(fact_table_insert,\n",
    "                    (county_id, school_type_id, emp_body_id, year_id, row['No of Teachers'])) \n",
    "        conn.commit()\n",
    "    except Exception as e:\n",
    "        print(f\"Error inserting data for {row['County']}: {e}\")\n",
    "        conn.rollback()\n"
   ]
  },
  {
   "cell_type": "code",
   "execution_count": 316,
   "metadata": {},
   "outputs": [],
   "source": [
    "# Close connection\n",
    "cur.close()\n",
    "conn.close()\n"
   ]
  }
 ],
 "metadata": {
  "kernelspec": {
   "display_name": ".venv",
   "language": "python",
   "name": "python3"
  },
  "language_info": {
   "codemirror_mode": {
    "name": "ipython",
    "version": 3
   },
   "file_extension": ".py",
   "mimetype": "text/x-python",
   "name": "python",
   "nbconvert_exporter": "python",
   "pygments_lexer": "ipython3",
   "version": "3.10.11"
  }
 },
 "nbformat": 4,
 "nbformat_minor": 2
}
