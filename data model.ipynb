{
 "cells": [
  {
   "cell_type": "code",
   "execution_count": 8,
   "metadata": {},
   "outputs": [],
   "source": [
    "# Import libraries\n",
    "import psycopg2"
   ]
  },
  {
   "cell_type": "markdown",
   "metadata": {},
   "source": [
    "### Create a connection to the database"
   ]
  },
  {
   "cell_type": "code",
   "execution_count": 9,
   "metadata": {},
   "outputs": [],
   "source": [
    "try:\n",
    "    conn = psycopg2.connect (\"host = 127.0.0.1 dbname = postgres user = postgres password = root\")\n",
    "except psycopg2.Error as e:\n",
    "    print(\"Error: Could not make connection to the Postgres database\")\n",
    "    print(e)"
   ]
  },
  {
   "cell_type": "markdown",
   "metadata": {},
   "source": [
    "#### Use the connection to get a cursor that can be used to execute queries"
   ]
  },
  {
   "cell_type": "code",
   "execution_count": 10,
   "metadata": {},
   "outputs": [],
   "source": [
    "try:\n",
    "    cur = conn.cursor()\n",
    "except psycopg2.Error as e:\n",
    "    print (\"Error: could not get cursor to the database\")\n",
    "    print(e)"
   ]
  },
  {
   "cell_type": "markdown",
   "metadata": {},
   "source": [
    "#### Set automatic commit to be true so that each action is committed without having to call conn.commit() after each command"
   ]
  },
  {
   "cell_type": "code",
   "execution_count": 11,
   "metadata": {},
   "outputs": [],
   "source": [
    "conn.set_session(autocommit=True)"
   ]
  },
  {
   "cell_type": "markdown",
   "metadata": {},
   "source": [
    "### Create a database "
   ]
  },
  {
   "cell_type": "code",
   "execution_count": 13,
   "metadata": {},
   "outputs": [],
   "source": [
    "try:\n",
    "    cur.execute(\"create database myfirstdb\")\n",
    "except psycopg2.Error as e:\n",
    "    print(e)"
   ]
  },
  {
   "cell_type": "markdown",
   "metadata": {},
   "source": [
    "#### Add the database (the one we've created) in the connect statement and close the connection with the default database"
   ]
  },
  {
   "cell_type": "code",
   "execution_count": 17,
   "metadata": {},
   "outputs": [],
   "source": [
    "# Close the connection with the default db\n",
    "try:\n",
    "    conn.close()\n",
    "except psycopg2.Error as e:\n",
    "    print(e)\n",
    "    \n",
    "# Connect to the created db\n",
    "try:\n",
    "    conn = psycopg2.connect(\"host = 127.0.0.1 dbname = myfirstdb user =postgres password = root\")\n",
    "except psycopg2.Error as e:\n",
    "    print(\"Error: Could not make connection to the Postgres database\")\n",
    "    print(e)\n",
    "    \n",
    "\n",
    "# Get cursor\n",
    "try:\n",
    "    cur = conn.cursor()\n",
    "except psycopg2.Error as e:\n",
    "    print(\"Error: Could not get cursor to the Database\")\n",
    "    print (e)\n",
    "    \n",
    "# Automate commit\n",
    "conn.set_session(autocommit= True)\n",
    "\n"
   ]
  },
  {
   "cell_type": "code",
   "execution_count": 18,
   "metadata": {},
   "outputs": [],
   "source": [
    "# Create table\n",
    "\n",
    "query = \"\"\"\n",
    "CREATE TABLE IF NOT EXISTS students (\n",
    "    student_id SERIAL PRIMARY KEY,\n",
    "    name varchar,\n",
    "    age int, \n",
    "    gender varchar,\n",
    "    subject varchar,\n",
    "    marks int\n",
    "    );\n",
    "\n",
    "\"\"\"\n",
    "\n",
    "try:\n",
    "    cur.execute(query)\n",
    "except psycopg2.Error as e:\n",
    "    print (\" Error: Issue creating table\")\n",
    "    print(e)"
   ]
  },
  {
   "cell_type": "code",
   "execution_count": 21,
   "metadata": {},
   "outputs": [],
   "source": [
    "# Insert values into the table \n",
    "\n",
    "# Define query with place holders\n",
    "q = \"\"\"\n",
    "INSERT INTO students(name, age, gender, subject,marks)\n",
    "VALUES (%s, %s, %s, %s, %s );\n",
    "\n",
    "\"\"\"\n",
    "\n",
    "data = [\n",
    "    (\"Grace\", 20, \"Female\", \"SQL\", 87),\n",
    "    (\"Anna\", 19, \"Female\", \"Python\", 88),\n",
    "    (\"Frank\", 20, \"Male\", \"PHP\", 87),\n",
    "    (\"Philip\", 28, \"Female\", \"C#\", 97)\n",
    "    \n",
    "]\n",
    "\n",
    "\n",
    "try:\n",
    "    cur.executemany(q, data)\n",
    "except psycopg2.Error as e:\n",
    "    print(\"Error: Inserting Rows\")\n",
    "    print (e)"
   ]
  },
  {
   "cell_type": "code",
   "execution_count": 22,
   "metadata": {},
   "outputs": [
    {
     "name": "stdout",
     "output_type": "stream",
     "text": [
      "(1, 'Grace', 20, 'Female', 'SQL', 87)\n",
      "(2, 'Anna', 19, 'Female', 'Python', 88)\n",
      "(3, 'Frank', 20, 'Male', 'PHP', 87)\n",
      "(4, 'Philip', 28, 'Female', 'C#', 97)\n"
     ]
    }
   ],
   "source": [
    "# Validate that data was inserted into the table\n",
    "try:\n",
    "    cur.execute(\" SELECT * FROM students;\")\n",
    "except psycopg2.Error as e:\n",
    "    print (\" Erro: select * \")\n",
    "    \n",
    "row = cur.fetchone()\n",
    "while row:\n",
    "    print(row)\n",
    "    row = cur.fetchone()"
   ]
  },
  {
   "cell_type": "code",
   "execution_count": 23,
   "metadata": {},
   "outputs": [],
   "source": [
    "# Close connection\n",
    "cur.close()\n",
    "conn.close()"
   ]
  }
 ],
 "metadata": {
  "kernelspec": {
   "display_name": ".venv",
   "language": "python",
   "name": "python3"
  },
  "language_info": {
   "codemirror_mode": {
    "name": "ipython",
    "version": 3
   },
   "file_extension": ".py",
   "mimetype": "text/x-python",
   "name": "python",
   "nbconvert_exporter": "python",
   "pygments_lexer": "ipython3",
   "version": "3.10.11"
  }
 },
 "nbformat": 4,
 "nbformat_minor": 2
}
